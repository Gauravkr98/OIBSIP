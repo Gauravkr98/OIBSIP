{
 "cells": [
  {
   "cell_type": "code",
   "execution_count": 118,
   "id": "59ad9766",
   "metadata": {},
   "outputs": [],
   "source": [
    "import pandas as pd\n",
    "import string\n",
    "import re\n",
    "import numpy as np\n",
    "import matplotlib.pyplot as plt\n",
    "import seaborn as sns\n",
    "\n",
    "from sklearn.feature_extraction.text import TfidfVectorizer\n",
    "from sklearn.model_selection import train_test_split\n",
    "from sklearn.naive_bayes import MultinomialNB\n",
    "from sklearn.metrics import classification_report, confusion_matrix, accuracy_score"
   ]
  },
  {
   "cell_type": "code",
   "execution_count": 119,
   "id": "4be5c64f",
   "metadata": {},
   "outputs": [],
   "source": [
    "df = pd.read_csv('user_reviews.csv')"
   ]
  },
  {
   "cell_type": "code",
   "execution_count": 121,
   "id": "1ce0cb70",
   "metadata": {},
   "outputs": [
    {
     "name": "stdout",
     "output_type": "stream",
     "text": [
      "App                           0\n",
      "Translated_Review         26868\n",
      "Sentiment                 26863\n",
      "Sentiment_Polarity        26863\n",
      "Sentiment_Subjectivity    26863\n",
      "dtype: int64\n"
     ]
    }
   ],
   "source": [
    "print(df.isnull().sum())"
   ]
  },
  {
   "cell_type": "code",
   "execution_count": 122,
   "id": "ea977de7",
   "metadata": {},
   "outputs": [
    {
     "name": "stdout",
     "output_type": "stream",
     "text": [
      "Sentiment\n",
      "Positive    23998\n",
      "Negative     8271\n",
      "Neutral      5163\n",
      "Name: count, dtype: int64\n"
     ]
    }
   ],
   "source": [
    "print(df['Sentiment'].value_counts())"
   ]
  },
  {
   "cell_type": "markdown",
   "id": "bb70459d",
   "metadata": {},
   "source": [
    "Cleaning the data"
   ]
  },
  {
   "cell_type": "code",
   "execution_count": 123,
   "id": "05318c2b",
   "metadata": {},
   "outputs": [],
   "source": [
    "df = df.dropna(subset=['Translated_Review', 'Sentiment'])"
   ]
  },
  {
   "cell_type": "code",
   "execution_count": 124,
   "id": "7f1bafb9",
   "metadata": {},
   "outputs": [],
   "source": [
    "df = df.drop_duplicates()"
   ]
  },
  {
   "cell_type": "code",
   "execution_count": 125,
   "id": "0dcfde54",
   "metadata": {},
   "outputs": [],
   "source": [
    "df['Sentiment'] = df['Sentiment'].str.capitalize()"
   ]
  },
  {
   "cell_type": "markdown",
   "id": "98915aab",
   "metadata": {},
   "source": [
    "TEXT PREPROCESSING"
   ]
  },
  {
   "cell_type": "code",
   "execution_count": 126,
   "id": "be1adb45",
   "metadata": {},
   "outputs": [],
   "source": [
    "df = df[df['Translated_Review'].notnull()]\n",
    "df['Translated_Review'] = df['Translated_Review'].astype(str)"
   ]
  },
  {
   "cell_type": "code",
   "execution_count": 127,
   "id": "0672bf7d",
   "metadata": {},
   "outputs": [],
   "source": [
    "stop_words = {\n",
    "    'a', 'about', 'above', 'after', 'again', 'against', 'all', 'am', 'an', 'and',\n",
    "    'any', 'are', 'as', 'at', 'be', 'because', 'been', 'before', 'being', 'below',\n",
    "    'between', 'both', 'but', 'by', 'could', 'did', 'do', 'does', 'doing', 'down',\n",
    "    'during', 'each', 'few', 'for', 'from', 'further', 'had', 'has', 'have', 'having',\n",
    "    'he', 'her', 'here', 'hers', 'herself', 'him', 'himself', 'his', 'how', 'i', 'if',\n",
    "    'in', 'into', 'is', 'it', 'its', 'itself', 'just', 'me', 'more', 'most', 'my',\n",
    "    'myself', 'no', 'nor', 'not', 'now', 'of', 'off', 'on', 'once', 'only', 'or',\n",
    "    'other', 'our', 'ours', 'ourselves', 'out', 'over', 'own', 's', 'same', 'she',\n",
    "    'should', 'so', 'some', 'such', 't', 'than', 'that', 'the', 'their', 'theirs',\n",
    "    'them', 'themselves', 'then', 'there', 'these', 'they', 'this', 'those', 'through',\n",
    "    'to', 'too', 'under', 'until', 'up', 'very', 'was', 'we', 'were', 'what', 'when',\n",
    "    'where', 'which', 'while', 'who', 'whom', 'why', 'will', 'with', 'you', 'your',\n",
    "    'yours', 'yourself', 'yourselves'\n",
    "}"
   ]
  },
  {
   "cell_type": "code",
   "execution_count": 128,
   "id": "0de2738e",
   "metadata": {},
   "outputs": [],
   "source": [
    "df['Clean_Review'] = df['Translated_Review'].apply(preprocess_text)\n"
   ]
  },
  {
   "cell_type": "code",
   "execution_count": 129,
   "id": "4c4546f4",
   "metadata": {},
   "outputs": [
    {
     "name": "stdout",
     "output_type": "stream",
     "text": [
      "                                    Translated_Review  \\\n",
      "0   I like eat delicious food. That's I'm cooking ...   \n",
      "1     This help eating healthy exercise regular basis   \n",
      "3          Works great especially going grocery store   \n",
      "4                                        Best idea us   \n",
      "5                                            Best way   \n",
      "6                                             Amazing   \n",
      "8                                Looking forward app,   \n",
      "9               It helpful site ! It help foods get !   \n",
      "10                                          good you.   \n",
      "11  Useful information The amount spelling errors ...   \n",
      "\n",
      "                                         Clean_Review  \n",
      "0   like eat delicious food thats im cooking food ...  \n",
      "1          help eating healthy exercise regular basis  \n",
      "3          works great especially going grocery store  \n",
      "4                                        best idea us  \n",
      "5                                            best way  \n",
      "6                                             amazing  \n",
      "8                                 looking forward app  \n",
      "9                         helpful site help foods get  \n",
      "10                                               good  \n",
      "11  useful information amount spelling errors ques...  \n"
     ]
    }
   ],
   "source": [
    "print(df[['Translated_Review', 'Clean_Review']].head(10))"
   ]
  },
  {
   "cell_type": "markdown",
   "id": "33d11a3d",
   "metadata": {},
   "source": [
    "FEATURE ENGINEERING "
   ]
  },
  {
   "cell_type": "code",
   "execution_count": 130,
   "id": "7b10c6c5",
   "metadata": {},
   "outputs": [],
   "source": [
    "vectorizer = TfidfVectorizer(max_features=3000)\n",
    "X = vectorizer.fit_transform(df['Clean_Review'])"
   ]
  },
  {
   "cell_type": "code",
   "execution_count": 131,
   "id": "dd85136d",
   "metadata": {},
   "outputs": [],
   "source": [
    "y = df['Sentiment']"
   ]
  },
  {
   "cell_type": "markdown",
   "id": "f235fdc6",
   "metadata": {},
   "source": [
    "TRAIN - TEST SPLIT"
   ]
  },
  {
   "cell_type": "code",
   "execution_count": 132,
   "id": "d5029cb7",
   "metadata": {},
   "outputs": [],
   "source": [
    "X_train, X_test, y_train, y_test = train_test_split(X, y, test_size=0.2, random_state=42)"
   ]
  },
  {
   "cell_type": "code",
   "execution_count": 133,
   "id": "245e47d0",
   "metadata": {},
   "outputs": [],
   "source": [
    "model = MultinomialNB()\n",
    "model.fit(X_train, y_train)\n",
    "y_pred = model.predict(X_test)\n"
   ]
  },
  {
   "cell_type": "code",
   "execution_count": 134,
   "id": "a8c180a8",
   "metadata": {},
   "outputs": [
    {
     "name": "stdout",
     "output_type": "stream",
     "text": [
      "Accuracy: 0.7282370769489813\n",
      "\n",
      "Classification Report:\n",
      "               precision    recall  f1-score   support\n",
      "\n",
      "    Negative       0.89      0.39      0.54      1272\n",
      "     Neutral       0.74      0.10      0.17       871\n",
      "    Positive       0.71      0.99      0.83      3796\n",
      "\n",
      "    accuracy                           0.73      5939\n",
      "   macro avg       0.78      0.49      0.51      5939\n",
      "weighted avg       0.75      0.73      0.67      5939\n",
      "\n"
     ]
    }
   ],
   "source": [
    "print(\"Accuracy:\", accuracy_score(y_test, y_pred))\n",
    "print(\"\\nClassification Report:\\n\", classification_report(y_test, y_pred))"
   ]
  },
  {
   "cell_type": "markdown",
   "id": "e575543f",
   "metadata": {},
   "source": [
    "VISUALIZING"
   ]
  },
  {
   "cell_type": "code",
   "execution_count": 135,
   "id": "20ec6a31",
   "metadata": {},
   "outputs": [
    {
     "data": {
      "image/png": "[encoded data removed]",
      "text/plain": [
       "<Figure size 600x400 with 2 Axes>"
      ]
     },
     "metadata": {},
     "output_type": "display_data"
    }
   ],
   "source": [
    "plt.figure(figsize=(6, 4))\n",
    "sns.heatmap(confusion_matrix(y_test, y_pred), annot=True, fmt='d', cmap='Blues', xticklabels=model.classes_, yticklabels=model.classes_)\n",
    "plt.xlabel('Predicted')\n",
    "plt.ylabel('Actual')\n",
    "plt.title('Confusion Matrix')\n",
    "plt.show()\n"
   ]
  },
  {
   "cell_type": "code",
   "execution_count": 136,
   "id": "c74d0161",
   "metadata": {},
   "outputs": [
    {
     "data": {
      "image/png": "[encoded data removed]",
      "text/plain": [
       "<Figure size 640x480 with 1 Axes>"
      ]
     },
     "metadata": {},
     "output_type": "display_data"
    }
   ],
   "source": [
    "sns.countplot(data=df, x='Sentiment')\n",
    "plt.title(\"Sentiment Distribution\")\n",
    "plt.show()"
   ]
  }
 ],
 "metadata": {
  "kernelspec": {
   "display_name": "Python 3",
   "language": "python",
   "name": "python3"
  },
  "language_info": {
   "codemirror_mode": {
    "name": "ipython",
    "version": 3
   },
   "file_extension": ".py",
   "mimetype": "text/x-python",
   "name": "python",
   "nbconvert_exporter": "python",
   "pygments_lexer": "ipython3",
   "version": "3.13.3"
  }
 },
 "nbformat": 4,
 "nbformat_minor": 5
}
